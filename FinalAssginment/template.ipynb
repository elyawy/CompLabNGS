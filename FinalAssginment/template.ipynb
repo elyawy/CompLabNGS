{
 "cells": [
  {
   "cell_type": "markdown",
   "metadata": {},
   "source": [
    "# CompLabNGS2024 Final Project"
   ]
  },
  {
   "cell_type": "markdown",
   "metadata": {},
   "source": [
    "## Getting the data\n",
    "Visit the [Gene Expression Omnibus (GEO) website](https://www.ncbi.nlm.nih.gov/geo/) and search for the accession number you were given. Review the information on the dataset and and explore the publication that generated the data."
   ]
  },
  {
   "cell_type": "markdown",
   "metadata": {},
   "source": [
    "Write a short but inclusive description of the dataset you were given. Include name of the dataset, the publication, authors, number and condition of samples and any other relevant information to allow others to understand the dataset."
   ]
  },
  {
   "cell_type": "markdown",
   "metadata": {},
   "source": []
  },
  {
   "cell_type": "markdown",
   "metadata": {},
   "source": [
    "After completing the entire analysis, create a conda environment with all the necessary packages and their versions to run the analysis. In the cell below, write the command you used to create the environment and the command to activate it. The name of the environment should be `<first name>_<last name>`. You can use ```bash conda list``` to list all the packages and their versions in the environment.\n",
    "\n",
    "Modify the example command below to include the packages you used in your analysis."
   ]
  },
  {
   "cell_type": "code",
   "execution_count": null,
   "metadata": {
    "vscode": {
     "languageId": "plaintext"
    }
   },
   "outputs": [],
   "source": [
    "!conda create -n hadas_volk \\\n",
    "    python=3.7 \\\n",
    "    pandas=1.0.3 \\\n",
    "    numpy=1.18.1 \\\n",
    "    matplotlib=3.1.3 \\\n",
    "    scikit-learn=0.22.1 \\\n",
    "    pydeseq2=1.26.0\n",
    "!conda activate hadas_volk"
   ]
  },
  {
   "cell_type": "markdown",
   "metadata": {},
   "source": [
    "## Getting the raw fastq files\n",
    "At the bottom of the GEO page, you will find a link to the `SRA Run Selector`. Click on the link. \n",
    "\n",
    "Explain what is the SRA and SRR in gerneal and how it is used to store sequencing data.\n"
   ]
  },
  {
   "cell_type": "markdown",
   "metadata": {},
   "source": []
  },
  {
   "cell_type": "markdown",
   "metadata": {},
   "source": [
    "Use `prefetch + fasterq-dump` command from the `SRA Toolkit` to download the fastq files. Write the command you used to download the fastq files. [SRA Tools Conda installation](https://anaconda.org/bioconda/sra-tools)"
   ]
  },
  {
   "cell_type": "markdown",
   "metadata": {},
   "source": []
  },
  {
   "cell_type": "markdown",
   "metadata": {},
   "source": [
    "## Quality Control\n",
    "Below include all the commands, figures and output you used and generated to perform quality control on the fastq files. You can use `fastqc`, `trimmomatic`, `multiqc` and any other tool you find necessary to give a comprehensive QC and filtering of the data.\n",
    "\n",
    "Write a brief description of the quality control process and explain the figures and tables you generated."
   ]
  },
  {
   "cell_type": "code",
   "execution_count": null,
   "metadata": {
    "vscode": {
     "languageId": "plaintext"
    }
   },
   "outputs": [],
   "source": []
  },
  {
   "cell_type": "markdown",
   "metadata": {},
   "source": [
    "## Refernce genomes and data\n",
    "\n",
    "Getting a refernce genome and annotation can be diffcult and might require more in-depth learning than what we covered in the course. To make life a bit easier and if you don't have a refence files for your organism, visit this [resource](https://ewels.github.io/AWS-iGenomes/) that host common genomes as bundels. Choose the corrrect Genome and your own choice of source and build and make sure you stick to it thourgh the rest of the analysis.\n",
    "\n",
    "Below write the genome build you choose and the command/s you used to get the refernces"
   ]
  },
  {
   "cell_type": "markdown",
   "metadata": {},
   "source": []
  },
  {
   "cell_type": "markdown",
   "metadata": {},
   "source": [
    "## Alignment and DGE\n",
    "\n",
    "Similar to what we did in class and in the assignemnts, you will now run through the steps of mapping and conducting DGE. Include below an elaborate report of your analysis, include study desgin, example count and normalized count matrices, draw summary satistics and every other information you think is relevent to report your findings (if any)"
   ]
  },
  {
   "cell_type": "markdown",
   "metadata": {},
   "source": []
  },
  {
   "cell_type": "markdown",
   "metadata": {},
   "source": []
  },
  {
   "cell_type": "markdown",
   "metadata": {},
   "source": [
    "## **BONUS** Gene Set Enrichment Analysis\n",
    "\n",
    "Up until this point we covered material learned in class. If you want to boost your scores attempt at learning and running GSEA analysis on your DGE results.\n",
    "\n",
    "Explain what GSEA is and what insights can we draw from it.\n",
    "\n",
    "Execute a GSEA analysis using [pyGSEA](https://gseapy.readthedocs.io/en/latest/introduction.html) and summarize your results below."
   ]
  },
  {
   "cell_type": "markdown",
   "metadata": {},
   "source": []
  },
  {
   "cell_type": "markdown",
   "metadata": {},
   "source": [
    "## Notes\n",
    "\n",
    "This excerise is meant to 'through' in the water and might prove challanging. Attempt to work in groups to overcome challanges. \n",
    "\n",
    "If you get stuck try to post an issue, but give as much background and explanation of your problem as possible so I could help\n",
    "\n",
    "### Good luck!"
   ]
  }
 ],
 "metadata": {
  "language_info": {
   "name": "python"
  }
 },
 "nbformat": 4,
 "nbformat_minor": 2
}
