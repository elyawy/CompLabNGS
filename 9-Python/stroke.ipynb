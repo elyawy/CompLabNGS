{
 "cells": [
  {
   "attachments": {},
   "cell_type": "markdown",
   "id": "a6466fb2",
   "metadata": {},
   "source": [
    "## Stroke Prediction Dataset\n",
    "\n",
    "The dataset we will be using in this workshop is the [Stroke Prediction Dataset](https://www.kaggle.com/fedesoriano/stroke-prediction-dataset) from **Kaggle**. It contains health records of over 5000 individuals, some of whom have suffered a stroke.\n",
    "\n",
    "According to the World Health Organization (WHO) stroke is the 2nd leading cause of death globally, responsible for approximately 11% of total deaths.\n",
    "This dataset can be used to predict whether a patient is likely to get stroke based on the input parameters like gender, age, various diseases, and smoking status. Each row in the data provides relevant information about the patient.\n",
    "\n",
    "We will be using this dataset to get initial insights about the data, and to get a *feel* for the work of a data scientist. We will understand how to use basic python scripting, packages and techniques to explore the data, and how to use this information to train a Machine Learning (ML) model in subsequent workshop."
   ]
  },
  {
   "cell_type": "markdown",
   "metadata": {},
   "source": [
    "# Step 0: Imports and Reading Data"
   ]
  },
  {
   "cell_type": "code",
   "execution_count": 1,
   "id": "1b6bb04a",
   "metadata": {},
   "outputs": [],
   "source": [
    "# Numpy and Pandas for data manipulation\n",
    "import numpy as np\n",
    "import pandas as pd\n",
    "\n",
    "# Matplotlib and Seaborn for visualization\n",
    "import matplotlib.pylab as plt\n",
    "import seaborn as sns\n",
    "plt.style.use('ggplot')"
   ]
  },
  {
   "cell_type": "code",
   "execution_count": 2,
   "id": "a053a676",
   "metadata": {},
   "outputs": [],
   "source": [
    "# Read in data into a dataframe\n",
    "df = pd.read_csv('data/stroke.csv')"
   ]
  },
  {
   "cell_type": "markdown",
   "id": "4b0d5b02",
   "metadata": {},
   "source": [
    "# Step 1: Data Understanding\n",
    "\n",
    "* Dataframe `shape`\n",
    "* `head` and `tail`\n",
    "*  `dtypes`\n",
    "*  `describe`"
   ]
  },
  {
   "cell_type": "code",
   "execution_count": null,
   "id": "20d7265f",
   "metadata": {},
   "outputs": [],
   "source": [
    "# Display shape of dataframe\n",
    "df.shape"
   ]
  },
  {
   "cell_type": "code",
   "execution_count": null,
   "id": "2703b8d9",
   "metadata": {},
   "outputs": [],
   "source": [
    "# Display first 10 rows of dataframe\n",
    "df.head(10)"
   ]
  },
  {
   "cell_type": "code",
   "execution_count": null,
   "id": "464c6f51",
   "metadata": {},
   "outputs": [],
   "source": [
    "# Display column names\n",
    "df.columns"
   ]
  },
  {
   "cell_type": "markdown",
   "id": "501439e9",
   "metadata": {},
   "source": [
    "The current dataset contains the following features:\n",
    "\n",
    "* `id`: unique identifier\n",
    "* `gender`: \"Male\", \"Female\" or \"Other\"\n",
    "* `age`: age of the patient\n",
    "* `hypertension`: 0 if the patient doesn't have hypertension, 1 if the patient has hypertension\n",
    "* `heart_disease`: 0 if the patient doesn't have any heart diseases, 1 if the patient has a heart disease\n",
    "* `ever_married`: \"No\" or \"Yes\"\n",
    "* `work_type`: \"children\", \"Govt_jov\", \"Never_worked\", \"Private\" or \"Self-employed\"\n",
    "* `Residence_type`: \"Rural\" or \"Urban\"\n",
    "* `avg_glucose_level`: average glucose level in blood\n",
    "* `bmi`: body mass index\n",
    "* `smoking_status`: \"formerly smoked\", \"never smoked\", \"smokes\" or \"Unknown\"*\n",
    "* `stroke`: 1 if the patient had a stroke or 0 if not\n",
    "\n",
    "###### **Note**: \"Unknown\" in smoking_status means that the information is unavailable for this patient"
   ]
  },
  {
   "cell_type": "code",
   "execution_count": null,
   "id": "d88807c7",
   "metadata": {},
   "outputs": [],
   "source": [
    "# Display information about types of data in dataframe\n",
    "df.dtypes"
   ]
  },
  {
   "cell_type": "code",
   "execution_count": null,
   "id": "feb55bc2",
   "metadata": {},
   "outputs": [],
   "source": [
    "# Describe basic statistics about dataframe\n",
    "df.describe()"
   ]
  },
  {
   "cell_type": "markdown",
   "id": "3e18406c",
   "metadata": {},
   "source": [
    "# Step 2: Data Preparation\n",
    "\n",
    "* Dropping irrelevant columns and rows\n",
    "* Identifying duplicated columns\n",
    "* Renaming Columns\n",
    "* Feature Creation"
   ]
  },
  {
   "cell_type": "code",
   "execution_count": null,
   "id": "83d2cd54",
   "metadata": {},
   "outputs": [],
   "source": [
    "# Dropping the 'irrelevant_column' and 'duplicate_column'\n",
    "df.drop(['irrelevant_column', 'duplicate_column'], axis=1, inplace=True)\n",
    "df.head()"
   ]
  },
  {
   "cell_type": "code",
   "execution_count": null,
   "id": "8b1b4875",
   "metadata": {},
   "outputs": [],
   "source": [
    "# Renaming columns back to original\n",
    "df.rename(columns={'sex': 'gender', 'patient_age': 'age'}, inplace=True)\n",
    "df.head()"
   ]
  },
  {
   "cell_type": "code",
   "execution_count": null,
   "id": "df592bc4",
   "metadata": {},
   "outputs": [],
   "source": [
    "# Identifying duplicate rows\n",
    "df.duplicated()"
   ]
  },
  {
   "cell_type": "code",
   "execution_count": null,
   "id": "9f587fc4",
   "metadata": {},
   "outputs": [],
   "source": [
    "df[df.duplicated()]"
   ]
  },
  {
   "cell_type": "code",
   "execution_count": null,
   "id": "2a7a9877",
   "metadata": {},
   "outputs": [],
   "source": [
    "df = df.drop_duplicates()\n",
    "df.shape"
   ]
  },
  {
   "cell_type": "code",
   "execution_count": null,
   "id": "96c5073f",
   "metadata": {},
   "outputs": [],
   "source": [
    "# Checking the number of missing values\n",
    "df.isnull().sum()"
   ]
  },
  {
   "cell_type": "code",
   "execution_count": null,
   "id": "ac41445b",
   "metadata": {},
   "outputs": [],
   "source": [
    "# Percentage of missing bmi values\n",
    "df['bmi'].isnull().sum() / len(df) * 100"
   ]
  },
  {
   "cell_type": "code",
   "execution_count": null,
   "id": "2b1aacc9",
   "metadata": {},
   "outputs": [],
   "source": [
    "# Replacing missing bmi values with mean\n",
    "df['bmi'].fillna(df['bmi'].mean(), inplace=True)\n",
    "df.isnull().sum()"
   ]
  },
  {
   "cell_type": "code",
   "execution_count": null,
   "id": "7d8921dc",
   "metadata": {},
   "outputs": [],
   "source": [
    "# Creating a health risk score based on normalized values of certain health indicators\n",
    "df['health_risk_score'] = (\n",
    "    (df['age'] / 100) +\n",
    "    df['hypertension'] +\n",
    "    df['heart_disease'] +\n",
    "    (df['avg_glucose_level'] / 200) +\n",
    "    (df['bmi']) / 50)\n",
    "\n",
    "df['health_risk_score'] = (df['health_risk_score'] - df['health_risk_score'].min()) / (df['health_risk_score'].max() - df['health_risk_score'].min())\n",
    "\n",
    "df.head()"
   ]
  },
  {
   "cell_type": "markdown",
   "metadata": {},
   "source": [
    "# Step 3: Feature Understanding - Univariate Analysis\n",
    "\n",
    "* Plotting Feature Distributions\n",
    "  * Histogram\n",
    "  * KDE\n",
    "  * Boxplot"
   ]
  },
  {
   "cell_type": "code",
   "execution_count": null,
   "id": "9d01c54f",
   "metadata": {},
   "outputs": [],
   "source": [
    "df['smoking_status'].value_counts()"
   ]
  },
  {
   "cell_type": "code",
   "execution_count": null,
   "id": "bc29b239",
   "metadata": {},
   "outputs": [],
   "source": [
    "# Bar plot of smoking status (categorious variable)\n",
    "ax = df['smoking_status'].value_counts() \\\n",
    "    .head(10) \\\n",
    "    .plot(kind='bar', title='Smoking Status', figsize=(15, 10), color='green', fontsize=20)\n",
    "ax.set_xlabel('Smoking Status')\n",
    "ax.set_ylabel('Count')"
   ]
  },
  {
   "cell_type": "code",
   "execution_count": null,
   "id": "c21117ef",
   "metadata": {},
   "outputs": [],
   "source": [
    "# Histogram of age (continuous variable)\n",
    "\n",
    "# Creating the figure and the first axis\n",
    "fig, ax1 = plt.subplots(figsize=(15, 10))\n",
    "\n",
    "# Plotting the histogram of 'age' on the first axis\n",
    "ax1.hist(df['age'], bins=20, alpha=0.5, color='blue', label='Age')\n",
    "ax1.set_xlabel('Age', fontsize=20)\n",
    "ax1.set_ylabel('Count of People with Age', fontsize=20)\n",
    "ax1.tick_params(axis='both', which='major', labelsize=20)\n",
    "\n",
    "# Creating the second axis\n",
    "ax2 = ax1.twinx()\n",
    "\n",
    "# Plotting the histogram of 'avg_glucose_level' on the second axis\n",
    "ax2.hist(df['avg_glucose_level'], bins=20, alpha=0.5, color='green', label='Avg Glucose Level')\n",
    "ax2.set_ylabel('Count of People with Avg Glucose Level', fontsize=20)\n",
    "ax2.tick_params(axis='y', which='major', labelsize=20)\n",
    "\n",
    "# Adding legends\n",
    "ax1.legend(loc='upper left', fontsize=15)\n",
    "ax2.legend(loc='upper right', fontsize=15)\n",
    "\n",
    "# Showing the plot\n",
    "plt.show()"
   ]
  },
  {
   "cell_type": "code",
   "execution_count": null,
   "id": "6c62a90f",
   "metadata": {},
   "outputs": [],
   "source": [
    "# Kernel Density Estimation (KDE) plot of health risk score (continuous variable)\n",
    "plt.figure(figsize=(10, 6))\n",
    "sns.kdeplot(df['health_risk_score'], shade=True, color=\"r\")\n",
    "plt.title('KDE of Health Risk Score')\n",
    "plt.xlabel('Health Risk Score')\n",
    "plt.ylabel('Density')\n",
    "plt.show()"
   ]
  },
  {
   "cell_type": "markdown",
   "id": "66107df5",
   "metadata": {},
   "source": [
    "# Step 4: Feature Relationship - Bivariate Analysis\n",
    "\n",
    "* Scatterplot\n",
    "* Heatmap Correlation\n",
    "* Pairplot\n",
    "* Groupby comparisons"
   ]
  },
  {
   "cell_type": "code",
   "execution_count": null,
   "id": "0ed1e796",
   "metadata": {},
   "outputs": [],
   "source": [
    "# Scatter plot of age and health risk score (continuous variables)\n",
    "plt.figure(figsize=(15, 10))\n",
    "sns.scatterplot(\n",
    "    x=df['age'], \n",
    "    y=df['health_risk_score'],\n",
    "    hue=df['stroke'],\n",
    "    palette=['blue', 'red'],\n",
    "    alpha=0.5)\n",
    "plt.title('Scatter Plot of Age and Health Risk Score', fontsize=20)\n",
    "plt.xlabel('Age', fontsize=20)\n",
    "plt.ylabel('Health Risk Score', fontsize=20)\n",
    "plt.show()"
   ]
  },
  {
   "cell_type": "code",
   "execution_count": null,
   "id": "d40a36cb",
   "metadata": {},
   "outputs": [],
   "source": [
    "# Scatter plot of age and health risk score (continuous variables) with regression line and 95% confidence interval\n",
    "plt.figure(figsize=(15, 10))\n",
    "sns.regplot(\n",
    "    x=df['age'], \n",
    "    y=df['health_risk_score'], \n",
    "    color='green',\n",
    "    scatter_kws={'alpha': 0.5}, \n",
    "    line_kws={'color': 'red'},\n",
    "    ci=95)\n",
    "plt.title('Scatter Plot of Age and Health Risk Score', fontsize=20)\n",
    "plt.xlabel('Age', fontsize=20)\n",
    "plt.ylabel('Health Risk Score', fontsize=20)\n",
    "plt.show()"
   ]
  },
  {
   "cell_type": "code",
   "execution_count": null,
   "id": "88dcf7ba",
   "metadata": {},
   "outputs": [],
   "source": [
    "# Pairplot of age, avg_glucose_level, bmi, hypertension, heart_disease\n",
    "sns.pairplot(\n",
    "    df,\n",
    "    vars=['age', 'avg_glucose_level', 'bmi', 'hypertension', 'heart_disease'],\n",
    "    hue='stroke',\n",
    "    palette=['blue', 'red']\n",
    ")\n",
    "plt.show()\n"
   ]
  },
  {
   "cell_type": "code",
   "execution_count": null,
   "id": "f4f11821",
   "metadata": {},
   "outputs": [],
   "source": [
    "# A more refined pairplot of age, avg_glucose_level, bmi, hypertension, heart_disease\n",
    "\n",
    "fig, axes = plt.subplots(nrows=3, ncols=3, figsize=(16, 12))\n",
    "\n",
    "sns.boxplot(x=df['age'], ax=axes[0, 0]).set_title(\"**BoxPlot For Age Col**\")\n",
    "sns.histplot(data=df, x='age', kde=True, ax=axes[0, 1]).set_title(\"**Distribution Of Age**\")\n",
    "sns.lineplot(data=df, x='age', y=\"stroke\", ax=axes[0, 2]).set_title('**Lineplot For Age with Stroke**')\n",
    "\n",
    "sns.boxplot(x=df['avg_glucose_level'], ax=axes[1, 0]).set_title(\"BoxPlot For Glucose\")\n",
    "sns.histplot(data=df, x='avg_glucose_level', kde=True, ax=axes[1, 1]).set_title(\"Distribution Of Glucose\")\n",
    "sns.lineplot(data=df, x='avg_glucose_level', y=\"stroke\", ax=axes[1, 2]).set_title('**Lineplot For Glucose Level With Stroke')\n",
    "\n",
    "sns.boxplot(x=df['bmi'], ax=axes[2, 0]).set_title(\"BoxPlot For Bmi Col\")\n",
    "sns.histplot(data=df, x='bmi', kde=True, ax=axes[2, 1]).set_title(\"Distribution Of Bmi\")\n",
    "sns.lineplot(data=df, x='bmi', y=\"stroke\", ax=axes[2, 2]).set_title('Lineplot For Bmi With Stroke')\n",
    "\n",
    "plt.tight_layout()\n",
    "plt.show()"
   ]
  },
  {
   "cell_type": "code",
   "execution_count": null,
   "id": "454b06e7",
   "metadata": {},
   "outputs": [],
   "source": [
    "# Correlation matrix of age, avg_glucose_level, bmi, hypertension, heart_disease\n",
    "plt.figure(figsize=(15, 10))\n",
    "sns.heatmap(\n",
    "    df[['age', 'avg_glucose_level', 'bmi', 'hypertension', 'heart_disease']].corr(), \n",
    "    annot=True,\n",
    "    cmap='coolwarm')\n",
    "plt.title('Correlation Matrix')\n",
    "plt.show()"
   ]
  },
  {
   "cell_type": "markdown",
   "id": "f8be02cc",
   "metadata": {},
   "source": [
    "# Step 5: Ask a Question about the data\n",
    "* Try to answer a question you have about the data using a plot or statistic."
   ]
  },
  {
   "cell_type": "code",
   "execution_count": null,
   "id": "512f5dc4",
   "metadata": {},
   "outputs": [],
   "source": [
    "# What are the residence type and work type most susceptible to stroke?\n",
    "\n",
    "# Filter only rows where stroke occurred and group by 'Residence_type' and 'work_type', calculating the count for each group\n",
    "stroke_susceptibility = df[df['stroke'] == 1].groupby(['Residence_type', 'work_type']).size().reset_index(name='count')\n",
    "\n",
    "# Sort values by count in descending order to see which combination of 'Residence_type' and 'work_type' has the most strokes\n",
    "stroke_susceptibility = stroke_susceptibility.sort_values('count', ascending=False)\n",
    "\n",
    "# Concatenating 'Residence_type' and 'work_type' for better labeling\n",
    "stroke_susceptibility['Residence_Work'] = stroke_susceptibility['Residence_type'] + \", \" + stroke_susceptibility['work_type']\n",
    "\n",
    "# Plotting the results with the combined label\n",
    "ax = stroke_susceptibility.plot(\n",
    "    kind='barh',\n",
    "    x='Residence_Work',\n",
    "    y='count',\n",
    "    figsize=(20, 7),\n",
    "    title='Number of Strokes by Residence and Work Type'\n",
    ")\n",
    "ax.set_xlabel('Number of Strokes')\n",
    "ax.set_ylabel('Residence Type, Work Type')\n",
    "plt.show()"
   ]
  }
 ],
 "metadata": {
  "celltoolbar": "Tags",
  "kernelspec": {
   "display_name": "Python 3 (ipykernel)",
   "language": "python",
   "name": "python3"
  },
  "language_info": {
   "codemirror_mode": {
    "name": "ipython",
    "version": 3
   },
   "file_extension": ".py",
   "mimetype": "text/x-python",
   "name": "python",
   "nbconvert_exporter": "python",
   "pygments_lexer": "ipython3",
   "version": "3.10.8"
  }
 },
 "nbformat": 4,
 "nbformat_minor": 5
}
