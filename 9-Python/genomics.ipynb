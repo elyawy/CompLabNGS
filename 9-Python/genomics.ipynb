{
 "cells": [
  {
   "cell_type": "markdown",
   "metadata": {},
   "source": [
    "# Handling genomic data with Pysam\n",
    "- `pysam` is a Python library for reading, manipulating, and analyzing `SAM`, `VCF`, and other genomic data files.\n",
    "- It provides a flexible and efficient way to work with these files, making it a popular choice in bioinformatics pipelines."
   ]
  },
  {
   "cell_type": "code",
   "execution_count": null,
   "metadata": {},
   "outputs": [],
   "source": [
    "import pysam\n",
    "\n",
    "# To read a SAM/BAM file, we use the AlignmentFile class from pysam. \n",
    "# This class provides a file-like object that can be used to iterate over the alignments in the file.\n",
    "\n",
    "# Open a SAM/BAM file for reading\n",
    "samfile = pysam.AlignmentFile(\"data/SRR1569760_vs_S288C.HQ.sort.ChrI.bam\", \"rb\")\n",
    "\n",
    "# Iterate over the alignments in the file\n",
    "for read in samfile:\n",
    "    print(read)\n",
    "    break # Stop after the first read\n",
    "# Close the file\n",
    "samfile.close()\n"
   ]
  },
  {
   "cell_type": "markdown",
   "metadata": {},
   "source": [
    "Each alignment in the file is represented as an AlignedSegment object, which provides access to various attributes of the alignment, such as the query name, sequence, quality scores, and alignment positions."
   ]
  },
  {
   "cell_type": "code",
   "execution_count": null,
   "metadata": {},
   "outputs": [],
   "source": [
    "samfile = pysam.AlignmentFile(\"data/SRR1569760_vs_S288C.HQ.sort.ChrI.bam\", \"rb\")\n",
    "for read in samfile:\n",
    "    print(\"Query name:\", read.query_name)\n",
    "    print(\"Aligned sequence:\", read.query_sequence)\n",
    "    print(\"Alignment start position:\", read.reference_start)"
   ]
  },
  {
   "cell_type": "markdown",
   "metadata": {},
   "source": [
    "The flag attribute of an AlignedSegment object is an integer that encodes various properties of the alignment, such as whether it is mapped, paired, or a duplicate."
   ]
  },
  {
   "cell_type": "code",
   "execution_count": null,
   "metadata": {},
   "outputs": [],
   "source": [
    "i = 0\n",
    "for i, read in enumerate(samfile):\n",
    "    if read.is_unmapped:\n",
    "        print(\"This read is unmapped.\")\n",
    "    else:\n",
    "        print(\"This read is mapped to the reference.\")\n",
    "    if i > 10:\n",
    "        break # Stop after the first 10 reads\n",
    "samfile.close()"
   ]
  },
  {
   "cell_type": "markdown",
   "metadata": {},
   "source": [
    "You can filter alignments based on various criteria, such as their position in the reference genome."
   ]
  },
  {
   "cell_type": "code",
   "execution_count": null,
   "metadata": {},
   "outputs": [],
   "source": [
    "# Fetch alignments in a specific region (e.g., chromosome 1, positions 100000 to 100500)\n",
    "for read in samfile.fetch(\"ChrI\", 100000, 200000):\n",
    "    print(read.query_name, read.reference_start, read.reference_end)"
   ]
  },
  {
   "cell_type": "markdown",
   "metadata": {},
   "source": [
    "#### Q1: Extract High-Quality Mapped Reads\n",
    "Write a Python function using pysam that reads a `BAM` file and extracts all mapped reads with a mapping quality (MAPQ) score of 30 or higher. Save these high-quality mapped reads to a new `BAM` file"
   ]
  },
  {
   "cell_type": "markdown",
   "metadata": {},
   "source": [
    "#### Q2: Calculate the Average Coverage of a Specific Region\n",
    "Calculate the average coverage of region 'ChrI:100000-200000'. Print the average coverage."
   ]
  },
  {
   "cell_type": "markdown",
   "metadata": {},
   "source": [
    "#### Q3: Identify and Count Duplicate Reads\n",
    "Using pysam, identify and count the number of duplicate reads in a `BAM` file. A read is considered a duplicate if it has the duplicate flag set. Use the `BAM` file from previous lesson."
   ]
  }
 ],
 "metadata": {
  "kernelspec": {
   "display_name": "Python 3",
   "language": "python",
   "name": "python3"
  },
  "language_info": {
   "codemirror_mode": {
    "name": "ipython",
    "version": 3
   },
   "file_extension": ".py",
   "mimetype": "text/x-python",
   "name": "python",
   "nbconvert_exporter": "python",
   "pygments_lexer": "ipython3",
   "version": "3.10.1"
  }
 },
 "nbformat": 4,
 "nbformat_minor": 2
}
